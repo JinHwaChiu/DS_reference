{
 "cells": [
  {
   "cell_type": "markdown",
   "metadata": {},
   "source": [
    "## Pandas Doc\n",
    "http://pandas.pydata.org/pandas-docs/stable/dsintro.html\n",
    "\n",
    "数据结构入门（Intro to Data Structures)\n",
    "\n",
    "索引和选择数据（Indexing and Selecting Data）\n",
    "\n",
    "处理丢失的数据\n",
    "\n",
    "分组：split-apply-combine 模式\n",
    "\n",
    "重塑和数据交叉表\n",
    "\n",
    "数据合并和连接\n",
    "\n",
    "输入输出工具（Text，CSV，HDF5…）\n",
    "\n",
    "使用文本数据\n",
    "\n",
    "可视化\n",
    "\n",
    "时间序列/日期功能\n",
    "\n",
    "时间差\n",
    "\n",
    "分类数据\n",
    "\n",
    "计算工具\n",
    "\n",
    "多重索引/高级索引"
   ]
  },
  {
   "cell_type": "code",
   "execution_count": null,
   "metadata": {
    "collapsed": true
   },
   "outputs": [],
   "source": []
  }
 ],
 "metadata": {
  "kernelspec": {
   "display_name": "Python 2",
   "language": "python",
   "name": "python2"
  },
  "language_info": {
   "codemirror_mode": {
    "name": "ipython",
    "version": 2
   },
   "file_extension": ".py",
   "mimetype": "text/x-python",
   "name": "python",
   "nbconvert_exporter": "python",
   "pygments_lexer": "ipython2",
   "version": "2.7.13"
  }
 },
 "nbformat": 4,
 "nbformat_minor": 2
}
