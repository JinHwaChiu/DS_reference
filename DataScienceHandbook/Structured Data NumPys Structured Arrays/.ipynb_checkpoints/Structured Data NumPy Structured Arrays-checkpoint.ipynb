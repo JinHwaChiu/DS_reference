{
 "cells": [
  {
   "cell_type": "code",
   "execution_count": 23,
   "metadata": {},
   "outputs": [],
   "source": [
    "import numpy as np\n",
    "data = np.zeros(4,dtype={'names':('name','age','weight'),'formats':('U10', 'i4', 'f8')})"
   ]
  },
  {
   "cell_type": "code",
   "execution_count": 24,
   "metadata": {},
   "outputs": [
    {
     "data": {
      "text/plain": [
       "array([(u'', 0,  0.), (u'', 0,  0.), (u'', 0,  0.), (u'', 0,  0.)], \n",
       "      dtype=[('name', '<U10'), ('age', '<i4'), ('weight', '<f8')])"
      ]
     },
     "execution_count": 24,
     "metadata": {},
     "output_type": "execute_result"
    }
   ],
   "source": [
    "data"
   ]
  },
  {
   "cell_type": "code",
   "execution_count": 25,
   "metadata": {},
   "outputs": [
    {
     "name": "stdout",
     "output_type": "stream",
     "text": [
      "[(u'Alice', 25,  55. ) (u'Bob', 45,  85.5) (u'Cathy', 37,  68. )\n",
      " (u'Doug', 19,  61.5)]\n"
     ]
    }
   ],
   "source": [
    "name = ['Alice', 'Bob', 'Cathy', 'Doug']\n",
    "age = [25, 45, 37, 19]\n",
    "weight = [55.0, 85.5, 68.0, 61.5]\n",
    "data['name'] = name\n",
    "data['age'] = age\n",
    "data['weight'] = weight\n",
    "print data"
   ]
  },
  {
   "cell_type": "markdown",
   "metadata": {},
   "source": [
    "##### Character\tDescription\n",
    "- 'b'\tByte\tnp.dtype('b')\n",
    "- 'i'\tSigned integer\tnp.dtype('i4') == np.int32\n",
    "- 'u'\tUnsigned integer\tnp.dtype('u1') == np.uint8\n",
    "- 'f'\tFloating point\tnp.dtype('f8') == np.int64\n",
    "- 'c'\tComplex floating point\tnp.dtype('c16') == np.complex128\n",
    "- 'S', 'a'\tString\tnp.dtype('S5')\n",
    "- 'U'\tUnicode string\tnp.dtype('U') == np.str_\n",
    "- 'V'\tRaw data (void)\tnp.dtype('V') == np.void"
   ]
  },
  {
   "cell_type": "code",
   "execution_count": null,
   "metadata": {
    "collapsed": true
   },
   "outputs": [],
   "source": []
  }
 ],
 "metadata": {
  "kernelspec": {
   "display_name": "Python 2",
   "language": "python",
   "name": "python2"
  },
  "language_info": {
   "codemirror_mode": {
    "name": "ipython",
    "version": 2
   },
   "file_extension": ".py",
   "mimetype": "text/x-python",
   "name": "python",
   "nbconvert_exporter": "python",
   "pygments_lexer": "ipython2",
   "version": "2.7.13"
  }
 },
 "nbformat": 4,
 "nbformat_minor": 2
}
