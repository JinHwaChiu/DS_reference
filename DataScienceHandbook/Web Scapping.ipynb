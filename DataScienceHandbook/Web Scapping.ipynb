{
 "cells": [
  {
   "cell_type": "code",
   "execution_count": 22,
   "metadata": {},
   "outputs": [],
   "source": [
    "#! python3\n",
    "# lucky.py - Opens several Google search results.\n",
    "\n",
    "import requests, sys, webbrowser, bs4\n",
    "\n",
    "\n",
    "# Retrieve top search result links.\n",
    "\n",
    "# Open a browser tab for each result.\n",
    "# Open a browser tab for each result.\n",
    "linkElems = ['http://www.cnblogs.com/jinxulin/p/3526542.html',\n",
    "             'https://classroom.udacity.com/nanodegrees/nd009/parts/9777e610-ebeb-4c49-b502-88c692489ae3'\n",
    "             ,'https://github.com/diyjac/smartcab/blob/master/smartcab.ipynb']\n",
    "numOpen = min(5, len(linkElems))\n",
    "for i in range(numOpen):\n",
    "    webbrowser.open(linkElems[i])"
   ]
  },
  {
   "cell_type": "code",
   "execution_count": null,
   "metadata": {
    "collapsed": true
   },
   "outputs": [],
   "source": []
  }
 ],
 "metadata": {
  "kernelspec": {
   "display_name": "Python 3",
   "language": "python",
   "name": "python3"
  },
  "language_info": {
   "codemirror_mode": {
    "name": "ipython",
    "version": 3
   },
   "file_extension": ".py",
   "mimetype": "text/x-python",
   "name": "python",
   "nbconvert_exporter": "python",
   "pygments_lexer": "ipython3",
   "version": "3.5.4"
  }
 },
 "nbformat": 4,
 "nbformat_minor": 2
}
