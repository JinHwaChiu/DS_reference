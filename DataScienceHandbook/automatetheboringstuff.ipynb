{
 "cells": [
  {
   "cell_type": "code",
   "execution_count": 1,
   "metadata": {
    "collapsed": true
   },
   "outputs": [],
   "source": [
    "import os"
   ]
  },
  {
   "cell_type": "code",
   "execution_count": 2,
   "metadata": {},
   "outputs": [
    {
     "data": {
      "text/plain": [
       "'/Users/jin-hwa/Documents/Data-Science/DataScienceHandbook'"
      ]
     },
     "execution_count": 2,
     "metadata": {},
     "output_type": "execute_result"
    }
   ],
   "source": [
    "os.getcwd()"
   ]
  },
  {
   "cell_type": "code",
   "execution_count": null,
   "metadata": {},
   "outputs": [
    {
     "name": "stdout",
     "output_type": "stream",
     "text": [
      "Enter a name: \n",
      "a\n",
      "birthday:3/4\n",
      "Enter a name: \n",
      "t\n",
      "I dont know\n",
      "Enter days: \n",
      "12/19\n",
      "update birthdays\n",
      "Enter a name: \n",
      "t\n",
      "birthday:12/19\n",
      "Enter a name: \n"
     ]
    }
   ],
   "source": [
    "#https://automatetheboringstuff.com/chapter5/\n",
    "birthdays = {'a':'3/4', 'b':'12/11', 'c':'12/23'}\n",
    "while True: \n",
    "    print 'Enter a name: '\n",
    "    name = raw_input()\n",
    "    if name == '':\n",
    "        break\n",
    "    if name in birthdays:\n",
    "        print 'birthday:'+birthdays[name]\n",
    "    if name not in birthdays:\n",
    "        print 'I dont know'\n",
    "        print 'Enter days: '\n",
    "        bday = raw_input()\n",
    "        birthdays[name] = bday\n",
    "        print 'update birthdays'"
   ]
  },
  {
   "cell_type": "code",
   "execution_count": null,
   "metadata": {
    "collapsed": true
   },
   "outputs": [],
   "source": []
  }
 ],
 "metadata": {
  "kernelspec": {
   "display_name": "Python 2",
   "language": "python",
   "name": "python2"
  },
  "language_info": {
   "codemirror_mode": {
    "name": "ipython",
    "version": 2
   },
   "file_extension": ".py",
   "mimetype": "text/x-python",
   "name": "python",
   "nbconvert_exporter": "python",
   "pygments_lexer": "ipython2",
   "version": "2.7.13"
  }
 },
 "nbformat": 4,
 "nbformat_minor": 2
}
